{
  "nbformat": 4,
  "nbformat_minor": 0,
  "metadata": {
    "colab": {
      "provenance": [],
      "authorship_tag": "ABX9TyM0BSmpl6hJCXr8jDbpWnEG",
      "include_colab_link": true
    },
    "kernelspec": {
      "name": "python3",
      "display_name": "Python 3"
    },
    "language_info": {
      "name": "python"
    }
  },
  "cells": [
    {
      "cell_type": "markdown",
      "metadata": {
        "id": "view-in-github",
        "colab_type": "text"
      },
      "source": [
        "<a href=\"https://colab.research.google.com/github/Dzikronb/KK_Mochammad-Dzikron-Bisri_23420021_TIF20-A_UTS/blob/main/KK_Mochammad_Dzikron_Bisri_23420021_TIF20_A_UTS.ipynb\" target=\"_parent\"><img src=\"https://colab.research.google.com/assets/colab-badge.svg\" alt=\"Open In Colab\"/></a>"
      ]
    },
    {
      "cell_type": "code",
      "execution_count": 1,
      "metadata": {
        "id": "eSYlsnpd2aU0"
      },
      "outputs": [],
      "source": [
        "import pandas as pd\n",
        "from pylab import rcParams\n",
        "#sklearn \n",
        "import sklearn\n",
        "import numpy as np\n",
        "import matplotlib.pyplot as plt\n",
        "from sklearn.datasets import make_blobs\n",
        "from sklearn.cluster import KMeans\n",
        "from sklearn.metrics import silhouette_score\n",
        "from sklearn.preprocessing import StandardScaler\n",
        "from sklearn.preprocessing import scale # for scaling the data\n",
        "import sklearn.metrics as sm # for evaluating the model\n",
        "from sklearn.metrics import confusion_matrix,classification_report"
      ]
    },
    {
      "cell_type": "code",
      "source": [
        "features, true_labels = make_blobs(\n",
        "  n_samples=221,\n",
        "  centers=2,\n",
        "  cluster_std=2.75,\n",
        "  random_state=42\n",
        ")"
      ],
      "metadata": {
        "id": "Jqc9dEvg2q6d"
      },
      "execution_count": 2,
      "outputs": []
    },
    {
      "cell_type": "code",
      "source": [
        "features[:221]"
      ],
      "metadata": {
        "colab": {
          "base_uri": "https://localhost:8080/"
        },
        "id": "1Ou6luEz219E",
        "outputId": "804ce478-5943-47fb-fbff-f9fbf9969a42"
      },
      "execution_count": 3,
      "outputs": [
        {
          "output_type": "execute_result",
          "data": {
            "text/plain": [
              "array([[-1.09285064e+00,  1.04271975e+01],\n",
              "       [-6.21982100e-01,  4.57931748e+00],\n",
              "       [ 2.33064377e+00,  3.24839909e-01],\n",
              "       [-3.82692678e+00,  8.50372394e+00],\n",
              "       [ 2.62168228e+00,  1.03173267e+01],\n",
              "       [ 1.03069356e+01,  6.80035700e+00],\n",
              "       [ 2.36976155e+00,  1.08935862e+00],\n",
              "       [ 9.49487800e+00,  3.08686939e+00],\n",
              "       [ 9.00142508e+00, -1.43082294e+00],\n",
              "       [ 3.95522743e+00,  4.64498980e+00],\n",
              "       [-3.23700391e+00,  1.64947513e+01],\n",
              "       [-2.47199115e-01,  5.65696609e+00],\n",
              "       [-4.44228720e-02,  1.82041351e+00],\n",
              "       [ 5.41260647e+00,  2.60746004e-01],\n",
              "       [-2.70722546e+00,  1.17740016e+01],\n",
              "       [-1.82034228e+00,  9.96701870e+00],\n",
              "       [-3.12372028e+00,  1.09777875e+01],\n",
              "       [ 4.04125553e+00,  4.99480603e+00],\n",
              "       [-5.55161880e+00,  5.72471791e+00],\n",
              "       [-4.81704581e+00,  8.16395209e+00],\n",
              "       [ 1.05357251e+01,  3.71644700e+00],\n",
              "       [-1.70324832e+00,  7.04981973e+00],\n",
              "       [-2.60771923e+00,  1.33170562e+01],\n",
              "       [ 1.94073005e+00,  3.24395424e+00],\n",
              "       [ 5.77544034e+00,  4.22927164e-01],\n",
              "       [ 5.86038226e+00,  4.10341333e+00],\n",
              "       [-5.43053284e+00,  1.03166653e+01],\n",
              "       [-6.40146716e+00,  7.85751149e+00],\n",
              "       [ 4.95205154e+00,  3.79402904e+00],\n",
              "       [-7.78581847e+00,  8.94137297e+00],\n",
              "       [ 2.37877275e+00,  2.64330952e+00],\n",
              "       [ 4.81664889e+00, -9.90628455e-01],\n",
              "       [-2.72122732e+00,  9.95245406e+00],\n",
              "       [ 4.22246982e+00,  3.59104200e+00],\n",
              "       [ 6.33565117e-01,  1.10821020e+01],\n",
              "       [ 1.34848673e+00,  5.15919571e+00],\n",
              "       [ 4.83183457e+00,  9.13557293e-01],\n",
              "       [ 7.88294609e+00,  2.15884551e+00],\n",
              "       [-3.37618805e+00,  1.11014515e+01],\n",
              "       [ 5.57970777e+00,  7.13263949e+00],\n",
              "       [-2.48532183e-01,  1.42304668e+01],\n",
              "       [-1.79451994e+00,  1.11642990e+01],\n",
              "       [-2.47344242e+00,  1.30115048e+01],\n",
              "       [ 5.62167142e+00,  6.76682970e-02],\n",
              "       [ 1.83363762e+00,  1.11247316e+01],\n",
              "       [ 2.09082004e+00,  1.80947495e+00],\n",
              "       [-5.91081208e+00,  5.38303044e+00],\n",
              "       [-1.56424733e+00,  4.16592570e+00],\n",
              "       [-1.88368280e+00,  1.26089287e+01],\n",
              "       [-2.32349506e+00,  5.09622862e+00],\n",
              "       [-3.45166254e+00,  6.80802364e+00],\n",
              "       [ 9.11857159e+00, -1.82210933e+00],\n",
              "       [-1.09281649e+00,  1.96092977e+01],\n",
              "       [-7.88612417e-01,  6.65710285e+00],\n",
              "       [-3.96603818e+00,  1.04257716e+01],\n",
              "       [ 1.05611306e+01, -1.37036114e-01],\n",
              "       [ 1.17244796e+00,  4.49729004e+00],\n",
              "       [-4.00625012e+00,  9.31932325e+00],\n",
              "       [-2.26981819e+00,  8.19201591e+00],\n",
              "       [ 7.55054618e+00, -2.86336390e+00],\n",
              "       [ 8.15345730e+00,  3.46348365e-01],\n",
              "       [ 3.94531642e+00, -1.45823407e+00],\n",
              "       [ 4.60620021e+00, -4.94279838e-01],\n",
              "       [ 3.40219879e+00,  3.68600700e+00],\n",
              "       [ 8.63052376e+00,  4.61116446e+00],\n",
              "       [-2.82723040e+00,  8.18625097e+00],\n",
              "       [-4.78414528e-01,  9.48554890e+00],\n",
              "       [ 6.53777481e+00,  8.69813386e-01],\n",
              "       [ 2.16923849e+00,  3.32594741e+00],\n",
              "       [ 7.83857915e+00,  2.00131060e+00],\n",
              "       [ 6.06808175e+00,  6.18820169e+00],\n",
              "       [ 4.65429901e+00,  2.10236632e+00],\n",
              "       [ 4.32489426e+00,  5.37716454e+00],\n",
              "       [ 5.49487464e+00,  6.03039928e+00],\n",
              "       [-9.29263277e-01,  2.48591905e+00],\n",
              "       [-2.60465499e+00,  5.80042152e+00],\n",
              "       [ 1.70392266e+00,  1.58162610e+00],\n",
              "       [-7.12411188e-02,  5.69631871e+00],\n",
              "       [-4.95536230e+00,  6.77080784e+00],\n",
              "       [-5.18957222e+00,  1.11787688e+01],\n",
              "       [-4.93980557e+00,  9.43703017e+00],\n",
              "       [ 8.77136073e+00,  2.17693033e+00],\n",
              "       [-5.03761427e+00,  1.32766057e+01],\n",
              "       [ 1.05057206e+01, -3.39507176e+00],\n",
              "       [ 7.25354439e+00,  3.86684631e-01],\n",
              "       [ 4.84834137e+00,  1.10974977e-01],\n",
              "       [ 6.02859385e+00,  4.35399647e+00],\n",
              "       [-2.74751611e-01,  1.27439462e+01],\n",
              "       [ 6.87524966e+00,  3.70464900e+00],\n",
              "       [ 1.52133649e+00,  8.39340130e+00],\n",
              "       [-2.34356455e+00,  1.57882019e+01],\n",
              "       [-1.61796671e+00,  7.95530986e+00],\n",
              "       [ 4.21064867e-01,  5.48678094e+00],\n",
              "       [-5.23317252e+00,  7.45696737e+00],\n",
              "       [-4.37926561e+00,  9.65298380e+00],\n",
              "       [ 6.57646897e-01, -1.89735570e+00],\n",
              "       [-3.78359628e+00,  7.73352931e+00],\n",
              "       [ 1.87333104e+00, -1.36584900e+00],\n",
              "       [ 1.14307227e-01,  1.08056121e+01],\n",
              "       [ 6.59681975e+00, -1.11959607e+00],\n",
              "       [-1.20083441e+00,  5.27343374e-01],\n",
              "       [-1.80093405e+00,  8.80955986e+00],\n",
              "       [-1.51469855e+00,  7.24020680e+00],\n",
              "       [ 2.63137060e+00,  2.56843081e+00],\n",
              "       [ 1.06618369e+01, -2.49650601e-01],\n",
              "       [ 1.38591793e+00, -3.63471880e+00],\n",
              "       [ 5.69605882e+00,  1.88325913e+00],\n",
              "       [-3.33859769e-01,  6.51347063e+00],\n",
              "       [-2.34912365e+00,  5.87111781e+00],\n",
              "       [-6.77352206e+00,  9.20283431e+00],\n",
              "       [ 7.32145810e+00,  1.56876188e+00],\n",
              "       [ 2.67781361e+00,  9.49437511e+00],\n",
              "       [-7.25272166e+00,  7.46799542e+00],\n",
              "       [-6.29778838e+00,  6.43526727e+00],\n",
              "       [-4.73255503e+00,  7.63445426e+00],\n",
              "       [ 8.15820063e-03,  9.91835168e+00],\n",
              "       [-3.18401494e+00,  6.94151168e+00],\n",
              "       [-3.84394738e+00,  9.23944001e+00],\n",
              "       [ 7.82468374e+00,  4.15024209e+00],\n",
              "       [ 1.55501100e+00,  7.58904303e+00],\n",
              "       [ 6.35620833e+00,  3.70111983e+00],\n",
              "       [ 1.04758084e+01,  4.81244915e+00],\n",
              "       [ 5.25613316e+00,  2.00779879e+00],\n",
              "       [ 5.18729300e+00,  3.22573272e-01],\n",
              "       [ 4.90661774e+00,  3.60985150e+00],\n",
              "       [ 4.69193296e-01,  1.19122418e+01],\n",
              "       [ 7.88333917e+00,  6.82936641e-01],\n",
              "       [ 3.01912575e+00,  4.30957545e+00],\n",
              "       [ 6.14439663e+00,  1.41713989e+00],\n",
              "       [-4.66314418e+00,  8.12861696e+00],\n",
              "       [-2.72025275e-01,  5.62940926e+00],\n",
              "       [ 8.60338038e+00, -1.97545123e+00],\n",
              "       [-4.16095402e+00,  8.21212832e+00],\n",
              "       [ 8.90554677e+00,  2.29127493e+00],\n",
              "       [-2.24223436e+00,  1.16780599e+01],\n",
              "       [ 4.61611430e-01,  6.41525984e-01],\n",
              "       [-1.74829792e+00,  1.12890401e+01],\n",
              "       [-1.93482274e+00,  3.62519329e+00],\n",
              "       [-3.11329531e+00,  9.99634570e+00],\n",
              "       [ 8.22994556e+00,  2.03093025e+00],\n",
              "       [ 2.46044681e+00,  1.65764447e+00],\n",
              "       [-2.54631499e+00,  6.10558107e+00],\n",
              "       [ 6.69493625e+00,  3.65168791e+00],\n",
              "       [-2.25685549e+00,  3.54847161e+00],\n",
              "       [-6.16170926e+00,  9.55565453e+00],\n",
              "       [ 3.34452350e+00,  2.61130701e+00],\n",
              "       [-1.04558694e+00,  1.72808958e+00],\n",
              "       [-3.80025218e+00,  1.05063262e+01],\n",
              "       [-5.29448320e+00,  9.87846629e+00],\n",
              "       [ 1.05258771e+00,  3.81476919e+00],\n",
              "       [ 5.53133631e+00,  1.61527628e+00],\n",
              "       [ 6.51524951e+00,  1.11993610e+00],\n",
              "       [ 3.85611344e+00,  3.87930685e+00],\n",
              "       [-4.27360635e+00, -8.43896330e-01],\n",
              "       [ 4.34078843e+00,  3.07787692e+00],\n",
              "       [-1.59822319e+00,  1.16970352e+01],\n",
              "       [-4.16389081e+00,  1.41080511e+01],\n",
              "       [ 2.66415723e+00,  1.38619002e+00],\n",
              "       [ 8.12388450e+00,  2.70786535e-02],\n",
              "       [ 6.99844280e+00,  1.53333873e+00],\n",
              "       [-1.52528238e+00,  1.05564436e+01],\n",
              "       [ 2.67279364e+00,  3.84206349e+00],\n",
              "       [ 1.98633932e+00,  3.85981120e+00],\n",
              "       [ 7.03876059e+00,  2.47736020e+00],\n",
              "       [-9.71349666e+00,  1.12745180e+01],\n",
              "       [ 4.58758426e+00, -7.83786069e-01],\n",
              "       [ 1.40086732e-01,  1.01494337e+01],\n",
              "       [ 2.55226402e+00,  2.38675260e+00],\n",
              "       [-2.49513562e+00,  8.36917151e+00],\n",
              "       [-2.23515637e+00,  7.62972808e+00],\n",
              "       [-4.63446696e+00,  8.36303496e+00],\n",
              "       [-3.73711374e+00,  1.13693828e+01],\n",
              "       [-3.03819028e+00,  9.84354132e+00],\n",
              "       [ 1.33906372e+00,  1.05329129e+00],\n",
              "       [-1.69486686e+00,  9.73218813e+00],\n",
              "       [ 3.26051064e-01,  1.15753065e+01],\n",
              "       [-1.07385832e+00,  9.83099398e+00],\n",
              "       [ 3.89901004e+00,  3.94641089e+00],\n",
              "       [-4.43984363e+00,  8.11321523e+00],\n",
              "       [-5.78528224e+00,  1.08198086e+01],\n",
              "       [ 4.58896771e+00,  1.17935843e+00],\n",
              "       [-1.51535971e+00,  1.32438867e+01],\n",
              "       [-3.58749504e+00,  4.98962002e+00],\n",
              "       [-5.45415199e+00,  1.03410853e+01],\n",
              "       [-5.67442996e+00,  1.00474557e+01],\n",
              "       [ 3.42975650e+00,  2.33270627e+00],\n",
              "       [-3.15311940e+00,  8.37040950e+00],\n",
              "       [-6.92977652e+00,  9.52202924e+00],\n",
              "       [ 2.36014256e+00,  4.32671823e-01],\n",
              "       [-3.77595424e+00,  1.19213723e+01],\n",
              "       [ 2.55202775e-01,  3.24888371e-01],\n",
              "       [ 5.31353691e+00,  5.79075952e-01],\n",
              "       [-1.20779416e+00,  8.81400662e+00],\n",
              "       [-1.84380138e+00,  3.75276546e+00],\n",
              "       [-6.57513310e+00,  7.03471456e+00],\n",
              "       [ 7.11377849e+00,  2.81824337e+00],\n",
              "       [-2.95273333e+00,  1.01254260e+01],\n",
              "       [ 3.33377923e+00,  1.76514294e-01],\n",
              "       [-8.95340615e-01,  1.50380391e+01],\n",
              "       [ 5.52735488e+00, -3.01715411e-01],\n",
              "       [ 2.38977196e+00,  7.72723469e+00],\n",
              "       [-4.83788035e+00,  4.84845626e+00],\n",
              "       [ 6.90977380e+00,  4.21032118e+00],\n",
              "       [ 5.55374237e+00, -8.51682916e-02],\n",
              "       [-2.03295008e+00,  1.00739089e+01],\n",
              "       [ 1.00923752e+00,  7.00968129e+00],\n",
              "       [-4.37073312e+00,  1.06963959e+01],\n",
              "       [ 4.70728182e+00,  3.34266498e+00],\n",
              "       [ 6.41466270e+00,  5.73690647e+00],\n",
              "       [-9.39248719e-01,  1.21370916e+01],\n",
              "       [ 9.12900992e+00, -1.95971911e+00],\n",
              "       [-5.00626383e+00,  5.13045095e+00],\n",
              "       [ 4.06754265e+00,  6.17417114e-01],\n",
              "       [ 2.81996606e+00,  4.31736135e+00],\n",
              "       [ 4.97069182e+00,  3.38787648e+00],\n",
              "       [-1.92043983e+00,  5.58850449e+00],\n",
              "       [ 6.76940219e-01,  6.75740975e+00],\n",
              "       [ 4.90848811e+00, -1.52607222e-01],\n",
              "       [ 4.58239945e+00,  2.29581999e+00],\n",
              "       [-3.80701025e+00,  1.20089003e+01],\n",
              "       [ 4.76520140e+00,  1.81268728e-01]])"
            ]
          },
          "metadata": {},
          "execution_count": 3
        }
      ]
    },
    {
      "cell_type": "code",
      "source": [
        "true_labels[:221]"
      ],
      "metadata": {
        "colab": {
          "base_uri": "https://localhost:8080/"
        },
        "id": "OuyNgC492-gX",
        "outputId": "49e35f85-9336-438a-a7f2-9bdcbf85ea5f"
      },
      "execution_count": 4,
      "outputs": [
        {
          "output_type": "execute_result",
          "data": {
            "text/plain": [
              "array([0, 0, 1, 0, 0, 1, 1, 1, 1, 1, 0, 0, 1, 1, 0, 0, 0, 1, 0, 0, 1, 0,\n",
              "       0, 1, 1, 1, 0, 0, 1, 0, 1, 1, 0, 1, 0, 0, 1, 1, 0, 1, 0, 0, 0, 1,\n",
              "       0, 1, 0, 0, 0, 0, 0, 1, 0, 0, 0, 1, 1, 0, 0, 1, 1, 1, 1, 1, 1, 0,\n",
              "       0, 1, 1, 1, 1, 1, 1, 1, 1, 0, 1, 1, 0, 0, 0, 1, 0, 1, 1, 1, 1, 0,\n",
              "       1, 0, 0, 0, 1, 0, 0, 1, 0, 1, 0, 1, 1, 0, 0, 1, 1, 1, 1, 0, 0, 0,\n",
              "       1, 0, 0, 0, 0, 0, 0, 0, 1, 0, 1, 1, 1, 1, 1, 0, 1, 1, 1, 0, 0, 1,\n",
              "       0, 1, 0, 1, 0, 0, 0, 1, 1, 0, 1, 0, 0, 1, 1, 0, 0, 1, 1, 1, 0, 1,\n",
              "       1, 0, 0, 1, 1, 1, 0, 1, 1, 1, 0, 1, 0, 1, 0, 0, 0, 0, 0, 1, 0, 0,\n",
              "       0, 1, 0, 0, 1, 0, 0, 0, 0, 1, 0, 0, 1, 0, 1, 1, 0, 0, 0, 1, 0, 1,\n",
              "       0, 1, 1, 0, 1, 1, 0, 1, 0, 1, 1, 0, 1, 0, 1, 1, 1, 0, 0, 1, 1, 0,\n",
              "       1])"
            ]
          },
          "metadata": {},
          "execution_count": 4
        }
      ]
    },
    {
      "cell_type": "code",
      "source": [
        "scaler = StandardScaler()\n",
        "scaled_features = scaler.fit_transform(features)"
      ],
      "metadata": {
        "id": "wGgl8oMQ3wxp"
      },
      "execution_count": 5,
      "outputs": []
    },
    {
      "cell_type": "code",
      "source": [
        "scaled_features[:10]"
      ],
      "metadata": {
        "colab": {
          "base_uri": "https://localhost:8080/"
        },
        "id": "hjkSjoV54J-H",
        "outputId": "8167c29d-c541-4ac2-cebe-f26e29ebdacf"
      },
      "execution_count": 6,
      "outputs": [
        {
          "output_type": "execute_result",
          "data": {
            "text/plain": [
              "array([[-0.45742941,  1.08008721],\n",
              "       [-0.35623752, -0.22845819],\n",
              "       [ 0.27829581, -1.18045738],\n",
              "       [-1.04499537,  0.64968295],\n",
              "       [ 0.34084136,  1.05550206],\n",
              "       [ 1.99243883,  0.26853064],\n",
              "       [ 0.2867024 , -1.00938557],\n",
              "       [ 1.81792378, -0.56241444],\n",
              "       [ 1.71187841, -1.57331164],\n",
              "       [ 0.62742655, -0.21376309]])"
            ]
          },
          "metadata": {},
          "execution_count": 6
        }
      ]
    },
    {
      "cell_type": "code",
      "source": [
        "kmeans = KMeans(\n",
        "    init=\"random\",\n",
        "    n_clusters=2,\n",
        "    n_init=10,\n",
        "    max_iter=300,\n",
        "    random_state=42\n",
        ")"
      ],
      "metadata": {
        "id": "QOccTkyL4MNw"
      },
      "execution_count": 7,
      "outputs": []
    },
    {
      "cell_type": "code",
      "source": [
        "kmeans.fit(scaled_features)\n",
        "\n",
        "iris_df = pd.DataFrame(features)\n",
        "iris_df.columns = [\"petal_length\",\"petal_width\"]"
      ],
      "metadata": {
        "id": "Pu1dXMX_4vdI"
      },
      "execution_count": 8,
      "outputs": []
    },
    {
      "cell_type": "code",
      "source": [
        "color = np.array([\"Red\",\"Blue\"])\n",
        "plt.subplot(1,2, 2)\n",
        "plt.scatter(scaled_features[:,0], scaled_features[:,1], s=50, alpha=1, cmap='viridis', c=color[kmeans.labels_])"
      ],
      "metadata": {
        "colab": {
          "base_uri": "https://localhost:8080/",
          "height": 485
        },
        "id": "ULcFcHLH4yd9",
        "outputId": "9c304f79-75e2-426e-dbbd-c377397b1f05"
      },
      "execution_count": 12,
      "outputs": [
        {
          "output_type": "stream",
          "name": "stderr",
          "text": [
            "<ipython-input-12-11b7a4124382>:3: UserWarning: No data for colormapping provided via 'c'. Parameters 'cmap' will be ignored\n",
            "  plt.scatter(scaled_features[:,0], scaled_features[:,1], s=50, alpha=1, cmap='viridis', c=color[kmeans.labels_])\n"
          ]
        },
        {
          "output_type": "execute_result",
          "data": {
            "text/plain": [
              "<matplotlib.collections.PathCollection at 0x7fc00a6c8a00>"
            ]
          },
          "metadata": {},
          "execution_count": 12
        },
        {
          "output_type": "display_data",
          "data": {
            "text/plain": [
              "<Figure size 640x480 with 1 Axes>"
            ],
            "image/png": "[encoded data removed]"
          },
          "metadata": {}
        }
      ]
    },
    {
      "cell_type": "code",
      "source": [],
      "metadata": {
        "id": "P1vMwmaI43YQ"
      },
      "execution_count": null,
      "outputs": []
    }
  ]
}